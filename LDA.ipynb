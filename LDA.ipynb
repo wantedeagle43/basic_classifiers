{
 "cells": [
  {
   "cell_type": "code",
   "execution_count": 18,
   "metadata": {},
   "outputs": [],
   "source": [
    "import numpy as np\n",
    "import pandas as pd\n",
    "import seaborn as sns\n",
    "import matplotlib.pyplot as plt\n",
    "from sklearn.preprocessing import StandardScaler\n",
    "from sklearn.discriminant_analysis import LinearDiscriminantAnalysis as LDA\n",
    "import warnings"
   ]
  },
  {
   "cell_type": "code",
   "execution_count": 23,
   "metadata": {},
   "outputs": [],
   "source": [
    "my_data = pd.read_csv(r\"F:\\databases\\pulsar_stars.csv\")\n",
    "names = ['Mean_of_the_integrated_profile', 'Standard_deviation_of_the_integrated_profile', 'Excess_kurtosis_of_the_integrated_profile', 'Skewness_of_the_integrated_profile', 'Mean_of_the_DM-SNR_curve', 'Standard_deviation_of_the_DM-SNR_curve', 'Excess_kurtosis_of_the_DM-SNR_curve', 'Skewness_of_the_DM-SNR_curve', 'target_class']\n",
    "#data = pd.read_csv(my_data, names=names)"
   ]
  },
  {
   "cell_type": "code",
   "execution_count": 24,
   "metadata": {},
   "outputs": [],
   "source": [
    "X = my_data.drop('target_class',1)"
   ]
  },
  {
   "cell_type": "code",
   "execution_count": 25,
   "metadata": {},
   "outputs": [
    {
     "name": "stdout",
     "output_type": "stream",
     "text": [
      "Actual Features before standardizing\n",
      "\n",
      "     Mean_of_the_integrated_profile  \\\n",
      "0                       140.562500   \n",
      "1                       102.507812   \n",
      "2                       103.015625   \n",
      "3                       136.750000   \n",
      "4                        88.726562   \n",
      "\n",
      "    Standard_deviation_of_the_integrated_profile  \\\n",
      "0                                      55.683782   \n",
      "1                                      58.882430   \n",
      "2                                      39.341649   \n",
      "3                                      57.178449   \n",
      "4                                      40.672225   \n",
      "\n",
      "    Excess_kurtosis_of_the_integrated_profile  \\\n",
      "0                                   -0.234571   \n",
      "1                                    0.465318   \n",
      "2                                    0.323328   \n",
      "3                                   -0.068415   \n",
      "4                                    0.600866   \n",
      "\n",
      "    Skewness_of_the_integrated_profile   Mean_of_the_DM-SNR_curve  \\\n",
      "0                            -0.699648                   3.199833   \n",
      "1                            -0.515088                   1.677258   \n",
      "2                             1.051164                   3.121237   \n",
      "3                            -0.636238                   3.642977   \n",
      "4                             1.123492                   1.178930   \n",
      "\n",
      "    Standard_deviation_of_the_DM-SNR_curve  \\\n",
      "0                                19.110426   \n",
      "1                                14.860146   \n",
      "2                                21.744669   \n",
      "3                                20.959280   \n",
      "4                                11.468720   \n",
      "\n",
      "    Excess_kurtosis_of_the_DM-SNR_curve   Skewness_of_the_DM-SNR_curve  \n",
      "0                              7.975532                      74.242225  \n",
      "1                             10.576487                     127.393580  \n",
      "2                              7.735822                      63.171909  \n",
      "3                              6.896499                      53.593661  \n",
      "4                             14.269573                     252.567306  \n"
     ]
    }
   ],
   "source": [
    "print(\"Actual Features before standardizing\\n\\n\",X.head())"
   ]
  },
  {
   "cell_type": "code",
   "execution_count": 5,
   "metadata": {},
   "outputs": [],
   "source": [
    "X_train, X_test, y_train, y_test = train_test_split(X,target,test_size=0.3,random_state=0)"
   ]
  },
  {
   "cell_type": "code",
   "execution_count": 27,
   "metadata": {},
   "outputs": [],
   "source": [
    "y = my_data['target_class']"
   ]
  },
  {
   "cell_type": "code",
   "execution_count": 30,
   "metadata": {},
   "outputs": [
    {
     "name": "stdout",
     "output_type": "stream",
     "text": [
      "\n",
      "\n",
      "After standardizing the features\n",
      "\n",
      " [[ 1.1493  1.3348 -0.6696 ... -0.3706 -0.0728 -0.2874]\n",
      " [-0.3342  1.8023 -0.0118 ... -0.5889  0.5044  0.2116]\n",
      " [-0.3144 -1.0533 -0.1452 ... -0.2353 -0.126  -0.3914]\n",
      " ...\n",
      " [ 0.3218  1.9562 -0.2993 ...  1.6716 -1.2881 -0.9413]\n",
      " [ 0.1336  1.0745 -0.2601 ... -0.6649  0.3783  0.2758]\n",
      " [-2.1058  5.7355  0.8727 ...  1.9715 -2.1973 -0.9711]]\n",
      "\n",
      "\n"
     ]
    }
   ],
   "source": [
    "# Standardizing the features\n",
    "X_trans = StandardScaler().fit_transform(X)\n",
    "\n",
    "print(\"\\n\")\n",
    "print(\"After standardizing the features\\n\\n\",X_trans)\n",
    "print(\"\\n\")"
   ]
  },
  {
   "cell_type": "code",
   "execution_count": 43,
   "metadata": {},
   "outputs": [],
   "source": [
    "#covariance matrix\n",
    "covar_matrix = LDA(n_components = 1)\n",
    "\n",
    "covar_matrix.fit(X_trans,y)\n",
    "\n",
    "variance = covar_matrix.explained_variance_ratio_"
   ]
  },
  {
   "cell_type": "code",
   "execution_count": 38,
   "metadata": {},
   "outputs": [
    {
     "name": "stdout",
     "output_type": "stream",
     "text": [
      "Eigen values\n",
      "\n",
      " [100.]\n"
     ]
    }
   ],
   "source": [
    "#Cumulative sum of variance\n",
    "var=np.cumsum(np.round(variance, decimals=3)*100)\n",
    "print(\"Eigen values\\n\\n\",var)"
   ]
  },
  {
   "cell_type": "code",
   "execution_count": 39,
   "metadata": {},
   "outputs": [
    {
     "data": {
      "image/png": "[encoded data removed]",
      "text/plain": [
       "<Figure size 432x288 with 1 Axes>"
      ]
     },
     "metadata": {
      "needs_background": "light"
     },
     "output_type": "display_data"
    }
   ],
   "source": [
    "#plot for variance explained\n",
    "plt.ylabel('% Variance Explained')\n",
    "plt.xlabel('# of Features')\n",
    "plt.title('LDA Analysis')\n",
    "plt.ylim(30,100.5)\n",
    "plt.style.context('seaborn-whitegrid')\n",
    "plt.plot(var)\n",
    "plt.show()"
   ]
  },
  {
   "cell_type": "code",
   "execution_count": 40,
   "metadata": {},
   "outputs": [],
   "source": [
    "#Fit LDA for two components\n",
    "lda = LDA(n_components = 1)\n",
    "LinearComponents = lda.fit_transform(X_trans, y)"
   ]
  },
  {
   "cell_type": "code",
   "execution_count": 44,
   "metadata": {},
   "outputs": [
    {
     "name": "stdout",
     "output_type": "stream",
     "text": [
      "After transform X, the linear discriminants are\n",
      "\n",
      "    linear discriminant\n",
      "0            -1.241411\n",
      "1            -0.170368\n",
      "2            -0.501111\n",
      "3            -0.790450\n",
      "4            -0.225713\n",
      "\n",
      "\n"
     ]
    }
   ],
   "source": [
    "#make it as data frame\n",
    "finalDf = pd.DataFrame(data = LinearComponents, columns = ['linear discriminant'])\n",
    "\n",
    "print(\"After transform X, the linear discriminants are\\n\\n\",finalDf.head())\n",
    "print(\"\\n\")"
   ]
  },
  {
   "cell_type": "code",
   "execution_count": 53,
   "metadata": {},
   "outputs": [
    {
     "name": "stdout",
     "output_type": "stream",
     "text": [
      "2D LDA Visualization\n",
      "\n"
     ]
    },
    {
     "data": {
      "image/png": "[encoded data removed]",
      "text/plain": [
       "<Figure size 864x648 with 1 Axes>"
      ]
     },
     "metadata": {
      "needs_background": "light"
     },
     "output_type": "display_data"
    },
    {
     "name": "stdout",
     "output_type": "stream",
     "text": [
      "\n",
      "\n"
     ]
    }
   ],
   "source": [
    "#data visualizations\n",
    "print(\"2D LDA Visualization\\n\")\n",
    "\n",
    "#def visual(df):\n",
    "#np.random.seed(1)\n",
    "#sample_size = 9\n",
    "#df = df.sample(sample_size)\n",
    "#plt.figure(figsize=(12,9))\n",
    "#sns.distplot(finalDf['linear discriminant'], hist = True, kde = False, kde_kws = {'linewidth': 3})\n",
    "#plt.show()\n",
    "#visual(finalDf)\n",
    "#print(\"\\n\")\n",
    "\n",
    "def visual1(df):\n",
    "    np.random.seed(1)\n",
    "sample_size = 9\n",
    "plt.figure(figsize=(12,9))\n",
    "sns.distplot(finalDf['linear discriminant'], hist = True, kde=False, bins=int(180/5), color = 'blue', hist_kws={'edgecolor':'black'})\n",
    "plt.show()\n",
    "\n",
    "visual1(finalDf)\n",
    "print(\"\\n\")"
   ]
  },
  {
   "cell_type": "code",
   "execution_count": 59,
   "metadata": {},
   "outputs": [
    {
     "data": {
      "image/png": "[encoded data removed]",
      "text/plain": [
       "<Figure size 432x288 with 1 Axes>"
      ]
     },
     "metadata": {
      "needs_background": "light"
     },
     "output_type": "display_data"
    },
    {
     "name": "stdout",
     "output_type": "stream",
     "text": [
      "\n",
      "\n",
      "The explained variance percentage is: [100.]\n"
     ]
    }
   ],
   "source": [
    "#scatter plot\n",
    "ax = sns.scatterplot(x=\"linear discriminant\", y=\"linear discriminant\", data=finalDf)\n",
    "plt.show()\n",
    "print(\"\\n\")\n",
    "\n",
    "print(\"The explained variance percentage is:\",lda.explained_variance_ratio_*100)"
   ]
  },
  {
   "cell_type": "code",
   "execution_count": null,
   "metadata": {},
   "outputs": [],
   "source": []
  }
 ],
 "metadata": {
  "kernelspec": {
   "display_name": "Python 3",
   "language": "python",
   "name": "python3"
  },
  "language_info": {
   "codemirror_mode": {
    "name": "ipython",
    "version": 3
   },
   "file_extension": ".py",
   "mimetype": "text/x-python",
   "name": "python",
   "nbconvert_exporter": "python",
   "pygments_lexer": "ipython3",
   "version": "3.7.4"
  }
 },
 "nbformat": 4,
 "nbformat_minor": 2
}
